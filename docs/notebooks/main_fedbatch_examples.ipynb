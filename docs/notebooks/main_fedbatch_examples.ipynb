{
 "cells": [
  {
   "cell_type": "markdown",
   "metadata": {},
   "source": [
    "# Fed-Batch data generation\n",
    "\n",
    "Within the simulator, one class is defined as the 'fedbatch' (relies on the 'batch' class) and it can be used to simulate fed-batch reactors with defined kinetics.\n",
    "\n",
    "First, the package is loaded and available default examples are displayed using `show_implemented_examples` method."
   ]
  },
  {
   "cell_type": "code",
   "execution_count": 1,
   "metadata": {},
   "outputs": [
    {
     "name": "stdout",
     "output_type": "stream",
     "text": [
      "[+] The following examples are implemented in this FEDBATCH class:\n",
      "+----------------------+----------------------------------------------------------------------------------+\n",
      "|  Example ID string   | Description                                                                      |\n",
      "+----------------------+----------------------------------------------------------------------------------+\n",
      "|      fedbatch1       | Bioreaction in fedbatch operation mode. Constant input flow. 3 species and 1     |\n",
      "|                      | volume. Bacteria growth, substrate consumption and product formation. Mimics the |\n",
      "|                      | production of a target protein.                                                  |\n",
      "+----------------------+----------------------------------------------------------------------------------+\n",
      "\n",
      "\n"
     ]
    }
   ],
   "source": [
    "from insidapy.simulate.ode import fedbatch\n",
    "fedbatch().show_implemented_examples()"
   ]
  },
  {
   "cell_type": "markdown",
   "metadata": {},
   "source": [
    "Next, one can decide to use one of the implemented examples or define a new one. In this case, the example of a bioreaction in fedbatch operation mode with 3 species is used (`'fedbatch1'`). \n",
    "Each example would be fully defined with default values. However, we can overwrite these values by using the corresponding inputs. If we overwrite the default values, we are reminded to check that the given values are in correct order."
   ]
  },
  {
   "cell_type": "code",
   "execution_count": 2,
   "metadata": {},
   "outputs": [
    {
     "name": "stdout",
     "output_type": "stream",
     "text": [
      "[!] IMPORTANT: It seems that you changed the default bounds of the species. Make sure the order of the indicated bounds is the following: ['biomass', 'product', 'substrate', 'volume']\n"
     ]
    }
   ],
   "source": [
    "data = fedbatch(example='fedbatch1',                                            # Choose example. Defaults to \"fedbatch1\".\n",
    "                nbatches=4,                                                     # Number of batches. Defaults to 3.\n",
    "                npoints_per_batch=20,                                           # Number of points per batch and per species. Defaults to 20.\n",
    "                noise_mode='percentage',                                        # Noise mode. Defaults to \"percentage\".\n",
    "                noise_percentage=2.5,                                           # Noise percentage (in case mode is \"percentage\")      \n",
    "                random_seed=10,                                                 # Random seed for reproducibility. Defaults to 0.\n",
    "                bounds_initial_conditions=[[0.1, 50, 0, 0], [0.4, 90, 0, 0]],   # Bounds for initial conditions. Defaults to \"None\".\n",
    "                time_span=[0, 80],                                              # Time span for integration. Defaults to \"None\". \n",
    "                initial_condition_generation_method='LHS',                      # Method for generating initial conditions. Defaults to \"LHS\".\n",
    "                name_of_time_vector='time')                                     # Name of time vector. Defaults to \"time\"."
   ]
  },
  {
   "cell_type": "markdown",
   "metadata": {},
   "source": [
    "We can now print some information about the example."
   ]
  },
  {
   "cell_type": "code",
   "execution_count": 3,
   "metadata": {},
   "outputs": [
    {
     "name": "stdout",
     "output_type": "stream",
     "text": [
      "[+] Loaded the example FEDBATCH1 with the following properties:\n",
      "+--------------------------------+------------------------------------------------------------------------+\n",
      "| Property                       | Description                                                            |\n",
      "+--------------------------------+------------------------------------------------------------------------+\n",
      "| Example string                 | fedbatch1                                                              |\n",
      "| Example description            | Bioreaction in fedbatch operation mode. Constant input flow. 3 species |\n",
      "|                                | and 1 volume. Bacteria growth, substrate consumption and product       |\n",
      "|                                | formation. Mimics the production of a target protein.                  |\n",
      "| Short reference information    | ISBN 978-1-119-28591-5                                                 |\n",
      "| Number of species              | 4                                                                      |\n",
      "| Species names                  | ['biomass', 'product', 'substrate', 'volume']                          |\n",
      "| Species units                  | ['g/L', 'g/L', 'g/L', 'L']                                             |\n",
      "| Number of batches              | 4                                                                      |\n",
      "| Number of samples              | 20                                                                     |\n",
      "| Time span                      | [0, 80]                                                                |\n",
      "| Time unit                      | h                                                                      |\n",
      "| Noise mode                     | percentage                                                             |\n",
      "| Noise percentage               | 2.5%                                                                   |\n",
      "| Lower bounds for experiments   | [0.1, 50.0, 0.0, 0.0]                                                  |\n",
      "| Upper bounds for experiments   | [0.4, 90.0, 0.0, 0.0]                                                  |\n",
      "+--------------------------------+------------------------------------------------------------------------+\n"
     ]
    }
   ],
   "source": [
    "data.print_info()"
   ]
  },
  {
   "cell_type": "markdown",
   "metadata": {},
   "source": [
    "This might be useful to use the example in a publication (use the short reference information given to reference where the example came from) or to check if the example is defined as intended.\n",
    "\n",
    "After that, we can run the experiments to create some in-silico data using the `run_experiments` method. We can then for example check the data of the first experiment."
   ]
  },
  {
   "cell_type": "code",
   "execution_count": 4,
   "metadata": {},
   "outputs": [
    {
     "name": "stderr",
     "output_type": "stream",
     "text": [
      "c:\\Users\\mitfo\\anaconda3\\envs\\myenv\\lib\\site-packages\\insidapy\\simulate\\utils\\ode_collection.py:395: RuntimeWarning: divide by zero encountered in double_scalars\n",
      "  dXdt = -F(t)*X/V + Rg(X,S)\n",
      "c:\\Users\\mitfo\\anaconda3\\envs\\myenv\\lib\\site-packages\\insidapy\\simulate\\utils\\ode_collection.py:396: RuntimeWarning: divide by zero encountered in double_scalars\n",
      "  dPdt = -F(t)*P/V + Rp(X,S)\n",
      "c:\\Users\\mitfo\\anaconda3\\envs\\myenv\\lib\\site-packages\\insidapy\\simulate\\utils\\ode_collection.py:397: RuntimeWarning: divide by zero encountered in double_scalars\n",
      "  dSdt = F(t)*(Sf-S)/V - Rg(X,S)/Yxs\n",
      "c:\\Users\\mitfo\\anaconda3\\envs\\myenv\\lib\\site-packages\\scipy\\integrate\\_ivp\\common.py:110: RuntimeWarning: invalid value encountered in multiply\n",
      "  y1 = y0 + h0 * direction * f0\n",
      "c:\\Users\\mitfo\\anaconda3\\envs\\myenv\\lib\\site-packages\\insidapy\\simulate\\utils\\ode_collection.py:388: RuntimeWarning: invalid value encountered in double_scalars\n",
      "  return mumax*S/(Ks + S)\n"
     ]
    },
    {
     "ename": "AttributeError",
     "evalue": "'list' object has no attribute 'T'",
     "output_type": "error",
     "traceback": [
      "\u001b[1;31m---------------------------------------------------------------------------\u001b[0m",
      "\u001b[1;31mAttributeError\u001b[0m                            Traceback (most recent call last)",
      "\u001b[1;32m~\\AppData\\Local\\Temp\\ipykernel_25232\\825810248.py\u001b[0m in \u001b[0;36m<cell line: 1>\u001b[1;34m()\u001b[0m\n\u001b[1;32m----> 1\u001b[1;33m \u001b[0mdata\u001b[0m\u001b[1;33m.\u001b[0m\u001b[0mrun_experiments\u001b[0m\u001b[1;33m(\u001b[0m\u001b[1;33m)\u001b[0m\u001b[1;33m\u001b[0m\u001b[1;33m\u001b[0m\u001b[0m\n\u001b[0m",
      "\u001b[1;32mc:\\Users\\mitfo\\anaconda3\\envs\\myenv\\lib\\site-packages\\insidapy\\simulate\\ode.py\u001b[0m in \u001b[0;36mrun_experiments\u001b[1;34m(self)\u001b[0m\n\u001b[0;32m    105\u001b[0m         \u001b[1;32mfor\u001b[0m \u001b[0mbatch\u001b[0m \u001b[1;32min\u001b[0m \u001b[0mrange\u001b[0m\u001b[1;33m(\u001b[0m\u001b[0mself\u001b[0m\u001b[1;33m.\u001b[0m\u001b[0mnbatches\u001b[0m\u001b[1;33m)\u001b[0m\u001b[1;33m:\u001b[0m\u001b[1;33m\u001b[0m\u001b[1;33m\u001b[0m\u001b[0m\n\u001b[0;32m    106\u001b[0m             \u001b[1;31m# Solve ODE for noise-free data\u001b[0m\u001b[1;33m\u001b[0m\u001b[1;33m\u001b[0m\u001b[0m\n\u001b[1;32m--> 107\u001b[1;33m             \u001b[0mybatch\u001b[0m\u001b[1;33m,\u001b[0m \u001b[0mruntime\u001b[0m \u001b[1;33m=\u001b[0m \u001b[0mself\u001b[0m\u001b[1;33m.\u001b[0m\u001b[0msolve_ODE_model\u001b[0m\u001b[1;33m(\u001b[0m\u001b[0mself\u001b[0m\u001b[1;33m.\u001b[0m\u001b[0my0\u001b[0m\u001b[1;33m[\u001b[0m\u001b[0mbatch\u001b[0m\u001b[1;33m]\u001b[0m\u001b[1;33m,\u001b[0m \u001b[0mtspan\u001b[0m\u001b[1;33m)\u001b[0m\u001b[1;33m\u001b[0m\u001b[1;33m\u001b[0m\u001b[0m\n\u001b[0m\u001b[0;32m    108\u001b[0m             \u001b[1;31m# Generate noisy data\u001b[0m\u001b[1;33m\u001b[0m\u001b[1;33m\u001b[0m\u001b[0m\n\u001b[0;32m    109\u001b[0m             \u001b[0mybatch_noisy\u001b[0m \u001b[1;33m=\u001b[0m \u001b[0mself\u001b[0m\u001b[1;33m.\u001b[0m\u001b[0maddnoise_per_species\u001b[0m\u001b[1;33m(\u001b[0m\u001b[0mybatch\u001b[0m\u001b[1;33m)\u001b[0m\u001b[1;33m\u001b[0m\u001b[1;33m\u001b[0m\u001b[0m\n",
      "\u001b[1;32mc:\\Users\\mitfo\\anaconda3\\envs\\myenv\\lib\\site-packages\\insidapy\\simulate\\ode.py\u001b[0m in \u001b[0;36msolve_ODE_model\u001b[1;34m(self, y0, tspan)\u001b[0m\n\u001b[0;32m    275\u001b[0m                 \u001b[0my\u001b[0m \u001b[1;33m=\u001b[0m \u001b[0msolve_ivp\u001b[0m\u001b[1;33m(\u001b[0m\u001b[0mfun\u001b[0m\u001b[1;33m=\u001b[0m\u001b[0modefunc\u001b[0m\u001b[1;33m,\u001b[0m \u001b[0my0\u001b[0m\u001b[1;33m=\u001b[0m\u001b[0my0\u001b[0m\u001b[1;33m,\u001b[0m \u001b[0mt_span\u001b[0m\u001b[1;33m=\u001b[0m\u001b[1;33m[\u001b[0m\u001b[0mtspan\u001b[0m\u001b[1;33m[\u001b[0m\u001b[1;36m0\u001b[0m\u001b[1;33m]\u001b[0m\u001b[1;33m,\u001b[0m \u001b[0mtspan\u001b[0m\u001b[1;33m[\u001b[0m\u001b[1;33m-\u001b[0m\u001b[1;36m1\u001b[0m\u001b[1;33m]\u001b[0m\u001b[1;33m]\u001b[0m\u001b[1;33m,\u001b[0m \u001b[0mt_eval\u001b[0m\u001b[1;33m=\u001b[0m\u001b[0mtspan\u001b[0m\u001b[1;33m)\u001b[0m\u001b[1;33m\u001b[0m\u001b[1;33m\u001b[0m\u001b[0m\n\u001b[0;32m    276\u001b[0m         \u001b[1;32melse\u001b[0m\u001b[1;33m:\u001b[0m\u001b[1;33m\u001b[0m\u001b[1;33m\u001b[0m\u001b[0m\n\u001b[1;32m--> 277\u001b[1;33m             \u001b[0my\u001b[0m \u001b[1;33m=\u001b[0m \u001b[0msolve_ode\u001b[0m\u001b[1;33m(\u001b[0m\u001b[0mself\u001b[0m\u001b[1;33m,\u001b[0m \u001b[0my0\u001b[0m\u001b[1;33m,\u001b[0m \u001b[0mtspan\u001b[0m\u001b[1;33m)\u001b[0m\u001b[1;33m\u001b[0m\u001b[1;33m\u001b[0m\u001b[0m\n\u001b[0m\u001b[0;32m    278\u001b[0m \u001b[1;33m\u001b[0m\u001b[0m\n\u001b[0;32m    279\u001b[0m         \u001b[1;31m# Get runtime for the batch\u001b[0m\u001b[1;33m\u001b[0m\u001b[1;33m\u001b[0m\u001b[0m\n",
      "\u001b[1;32mc:\\Users\\mitfo\\anaconda3\\envs\\myenv\\lib\\site-packages\\insidapy\\simulate\\utils\\ode_default_solve_call.py\u001b[0m in \u001b[0;36msolve_ode\u001b[1;34m(self, y0, tspan)\u001b[0m\n\u001b[0;32m     44\u001b[0m     \u001b[1;31m# Get only species data\u001b[0m\u001b[1;33m\u001b[0m\u001b[1;33m\u001b[0m\u001b[0m\n\u001b[0;32m     45\u001b[0m     \u001b[1;31m# ..........................................\u001b[0m\u001b[1;33m\u001b[0m\u001b[1;33m\u001b[0m\u001b[0m\n\u001b[1;32m---> 46\u001b[1;33m     \u001b[0my\u001b[0m \u001b[1;33m=\u001b[0m \u001b[0my\u001b[0m\u001b[1;33m.\u001b[0m\u001b[0my\u001b[0m\u001b[1;33m.\u001b[0m\u001b[0mT\u001b[0m\u001b[1;33m\u001b[0m\u001b[1;33m\u001b[0m\u001b[0m\n\u001b[0m\u001b[0;32m     47\u001b[0m     \u001b[1;32mreturn\u001b[0m \u001b[0my\u001b[0m\u001b[1;33m\u001b[0m\u001b[1;33m\u001b[0m\u001b[0m\n",
      "\u001b[1;31mAttributeError\u001b[0m: 'list' object has no attribute 'T'"
     ]
    }
   ],
   "source": [
    "data.run_experiments()"
   ]
  },
  {
   "cell_type": "markdown",
   "metadata": {},
   "source": [
    "Most modeling approaches require a training dataset and a separate testing dataset. To generate separate datasets, the user can apply a splitting in an sklearn-manner. There is no default value set. In case the user calls the function, a `test_splitratio` in the range [0,1) needs to be chosen. The value represents the fraction of the total number of batches generated used for the test set. The data is then splitted and stored in the data object as `data.training` and `data.testing`. "
   ]
  },
  {
   "cell_type": "code",
   "execution_count": null,
   "metadata": {},
   "outputs": [],
   "source": [
    "data.train_test_split(test_splitratio=0.2)"
   ]
  },
  {
   "cell_type": "markdown",
   "metadata": {},
   "source": [
    "We can now plot the experiments. The fist way to do so is to plot all the runs using the `plot_experiments` method. The method lets us save the figure using a path (`save_figure_directory`), a name (`figname`) and an some extensions (`save_figure_exensions`) as a list. By using `show=False`, the plot will not be displayed in a running code."
   ]
  },
  {
   "cell_type": "code",
   "execution_count": null,
   "metadata": {},
   "outputs": [],
   "source": [
    "data.plot_experiments(  save=True, \n",
    "                        show= False, \n",
    "                        figname=f'{data.example}_simulated_batches',\n",
    "                        save_figure_directory=r'.\\figures', \n",
    "                        save_figure_exensions=['png'])"
   ]
  },
  {
   "cell_type": "markdown",
   "metadata": {},
   "source": [
    "We can also visualize the training and testing runs individually using the `plot_train_test_experiments` method."
   ]
  },
  {
   "cell_type": "code",
   "execution_count": null,
   "metadata": {},
   "outputs": [],
   "source": [
    "data.plot_train_test_experiments(   save=True, \n",
    "                                    show=False,\n",
    "                                    figname=f'{data.example}_simulated_batches_train_test',\n",
    "                                    save_figure_directory=r'.\\figures', \n",
    "                                    save_figure_exensions=['png'])"
   ]
  },
  {
   "cell_type": "markdown",
   "metadata": {},
   "source": [
    "After the simulation, one can export the data as XLSX files. By choosing `which_dataset` to be `training` (only executable if `train_test_split` was applied), `testing` (only executable if `train_test_split` was applied), or `all` (always executable), the corresponding data is exported to the indicated location:"
   ]
  },
  {
   "cell_type": "code",
   "execution_count": null,
   "metadata": {},
   "outputs": [],
   "source": [
    "data.export_dict_data_to_excel(destination=r'.\\data', which_dataset='all')      # Exports all the data\n",
    "data.export_dict_data_to_excel(destination=r'.\\data', which_dataset='training') # Exports the training data (blue circles in Fig 2)\n",
    "data.export_dict_data_to_excel(destination=r'.\\data', which_dataset='testing')  # Exports the training data (red diamonds in Fig 2)"
   ]
  }
 ],
 "metadata": {
  "kernelspec": {
   "display_name": "myenv",
   "language": "python",
   "name": "python3"
  },
  "language_info": {
   "codemirror_mode": {
    "name": "ipython",
    "version": 3
   },
   "file_extension": ".py",
   "mimetype": "text/x-python",
   "name": "python",
   "nbconvert_exporter": "python",
   "pygments_lexer": "ipython3",
   "version": "3.9.11"
  }
 },
 "nbformat": 4,
 "nbformat_minor": 2
}
